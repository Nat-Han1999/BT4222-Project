{
 "cells": [
  {
   "cell_type": "code",
   "execution_count": 1,
   "id": "bbfd8f68",
   "metadata": {},
   "outputs": [],
   "source": [
    "import numpy as np\n",
    "import pandas as pd"
   ]
  },
  {
   "cell_type": "code",
   "execution_count": 14,
   "id": "b7990b5d",
   "metadata": {},
   "outputs": [],
   "source": [
    "# From stock_price_adj to fill in missing dates\n",
    "df1 = pd.read_csv(\"XXX_adj.csv\")\n",
    "\n",
    "# Manual scraping of revenu, net income and shares outstanding for each company's quarterly report\n",
    "df2 = pd.read_excel(\"XXX_financials.xlsx\")"
   ]
  },
  {
   "cell_type": "code",
   "execution_count": 15,
   "id": "0e95e47d",
   "metadata": {},
   "outputs": [],
   "source": [
    "# Cleanup\n",
    "df1.columns = df1.columns.str.replace(' ', '')\n",
    "df1.rename(columns = {'AdjClose':'Price'}, inplace = True)\n",
    "df1[\"Date\"] = pd.to_datetime(df1[\"Date\"])\n",
    "\n",
    "# Merge\n",
    "df3 = pd.merge(df1,df2,\n",
    "               how='left',left_on='Date',right_on='Date', validate = 'm:m')"
   ]
  },
  {
   "cell_type": "code",
   "execution_count": 17,
   "id": "569f1006",
   "metadata": {},
   "outputs": [],
   "source": [
    "# EPS calculation\n",
    "df3['EPS'] = df3['Net_income'] / df3['Shares_outstanding']"
   ]
  },
  {
   "cell_type": "code",
   "execution_count": 19,
   "id": "7f39a343",
   "metadata": {},
   "outputs": [],
   "source": [
    "# Heikin_ashi calculations\n",
    "\n",
    "shift_open = df3.Open.shift(1)\n",
    "shift_close = df3.Price.shift(1)\n",
    "\n",
    "# The midpoint of the previous day price\n",
    "heikin_open = (shift_open + shift_close)/2\n",
    "\n",
    "# The average of the current day price\n",
    "heikin_close = df3.apply(lambda column: (column.Open + column.Price\n",
    "                       + column.High + column.Low)/4 , axis=1)\n",
    "\n",
    "# Heikin_close price greater than heikin_open price means trending up\n",
    "df3['Heikin_trend'] = np.where(heikin_close>heikin_open, 'uptrend', 'downtrend')"
   ]
  },
  {
   "cell_type": "code",
   "execution_count": 21,
   "id": "580deba5",
   "metadata": {},
   "outputs": [],
   "source": [
    "#Other cleanup\n",
    "\n",
    "# Change volume to millions\n",
    "df3['Volume'] = df3['Volume']/1000000\n",
    "\n",
    "# PE_Ratio\n",
    "df3['PE_ratio'] = df3['Price'] / df3['EPS']\n",
    "\n",
    "df3 = df3.drop(['Open', 'High','Low', 'Close',\n",
    "               'Net_income','Shares_outstanding'], axis=1)"
   ]
  },
  {
   "cell_type": "code",
   "execution_count": 24,
   "id": "9e522977",
   "metadata": {},
   "outputs": [],
   "source": [
    "# Exporting CSV after feature engineering of financial data\n",
    "\n",
    "df3.to_csv('XXX.csv', index=False)"
   ]
  },
  {
   "cell_type": "code",
   "execution_count": 49,
   "id": "86e11183",
   "metadata": {},
   "outputs": [],
   "source": [
    "# Price not in millions\n",
    "\n",
    "# Revenue may be a good indicator of \n",
    "#consumer demand of the product (could be sentiment-case too)"
   ]
  }
 ],
 "metadata": {
  "kernelspec": {
   "display_name": "Python 3 (ipykernel)",
   "language": "python",
   "name": "python3"
  },
  "language_info": {
   "codemirror_mode": {
    "name": "ipython",
    "version": 3
   },
   "file_extension": ".py",
   "mimetype": "text/x-python",
   "name": "python",
   "nbconvert_exporter": "python",
   "pygments_lexer": "ipython3",
   "version": "3.9.12"
  }
 },
 "nbformat": 4,
 "nbformat_minor": 5
}
