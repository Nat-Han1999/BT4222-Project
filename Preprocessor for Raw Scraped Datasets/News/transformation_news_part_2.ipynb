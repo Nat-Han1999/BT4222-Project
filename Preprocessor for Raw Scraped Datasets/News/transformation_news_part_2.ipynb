{
 "cells": [
  {
   "cell_type": "code",
   "execution_count": 2,
   "metadata": {},
   "outputs": [],
   "source": [
    "import pandas as pd\n",
    "import numpy as np\n",
    "\n",
    "amazonnews_dataframe_cleaned = pd.read_csv('./news_data_transformed_part_1/amazonnews.csv')\n",
    "applenews_dataframe_cleaned = pd.read_csv('./news_data_transformed_part_1/applenews.csv')\n",
    "googlenews_dataframe_cleaned = pd.read_csv('./news_data_transformed_part_1/googlenews.csv')\n",
    "metanews_dataframe_cleaned = pd.read_csv('./news_data_transformed_part_1/metanews.csv')\n",
    "msftnews_dataframe_cleaned = pd.read_csv('./news_data_transformed_part_1/msftnews.csv')\n",
    "nvidianews_dataframe_cleaned = pd.read_csv('./news_data_transformed_part_1/nvidianews.csv')\n",
    "samsungnews_dataframe_cleaned = pd.read_csv('./news_data_transformed_part_1/samsungnews.csv')\n",
    "tencentnews_dataframe_cleaned = pd.read_csv('./news_data_transformed_part_1/tencentnews.csv')\n",
    "teslanews_dataframe_cleaned = pd.read_csv('./news_data_transformed_part_1/teslanews.csv')\n",
    "tsmcnews_dataframe_cleaned = pd.read_csv('./news_data_transformed_part_1/tsmcnews.csv')"
   ]
  },
  {
   "cell_type": "code",
   "execution_count": 3,
   "metadata": {},
   "outputs": [
    {
     "name": "stdout",
     "output_type": "stream",
     "text": [
      "1118\n",
      "1046\n",
      "615\n",
      "667\n",
      "523\n",
      "205\n",
      "205\n",
      "16\n",
      "259\n",
      "32\n"
     ]
    }
   ],
   "source": [
    "list_of_news_dataframes_cleaned = [amazonnews_dataframe_cleaned,\n",
    "                                    applenews_dataframe_cleaned,\n",
    "                                    googlenews_dataframe_cleaned,\n",
    "                                    metanews_dataframe_cleaned,\n",
    "                                    msftnews_dataframe_cleaned,\n",
    "                                    nvidianews_dataframe_cleaned,\n",
    "                                    samsungnews_dataframe_cleaned,\n",
    "                                    tencentnews_dataframe_cleaned,\n",
    "                                    teslanews_dataframe_cleaned,\n",
    "                                    tsmcnews_dataframe_cleaned\n",
    "                            ]\n",
    "\n",
    "for dataframe in list_of_news_dataframes_cleaned:\n",
    "    print(dataframe[\"Article Source\"].isna().sum())"
   ]
  },
  {
   "cell_type": "code",
   "execution_count": 4,
   "metadata": {},
   "outputs": [
    {
     "name": "stdout",
     "output_type": "stream",
     "text": [
      "17\n",
      "95\n",
      "99\n",
      "52\n",
      "13\n",
      "6\n",
      "0\n",
      "0\n",
      "26\n",
      "1\n"
     ]
    }
   ],
   "source": [
    "for dataframe in list_of_news_dataframes_cleaned:\n",
    "    print(dataframe[\"Category\"].isna().sum())"
   ]
  },
  {
   "cell_type": "code",
   "execution_count": 5,
   "metadata": {},
   "outputs": [],
   "source": [
    "amazonnews_dataframe_cleaned = pd.get_dummies(amazonnews_dataframe_cleaned,columns=[\"Article Source\",\"Category\"])\n",
    "applenews_dataframe_cleaned = pd.get_dummies(applenews_dataframe_cleaned,columns=[\"Article Source\",\"Category\"])\n",
    "googlenews_dataframe_cleaned = pd.get_dummies(googlenews_dataframe_cleaned,columns=[\"Article Source\",\"Category\"])\n",
    "metanews_dataframe_cleaned = pd.get_dummies(metanews_dataframe_cleaned,columns=[\"Article Source\",\"Category\"])\n",
    "msftnews_dataframe_cleaned = pd.get_dummies(msftnews_dataframe_cleaned,columns=[\"Article Source\",\"Category\"])\n",
    "nvidianews_dataframe_cleaned = pd.get_dummies(nvidianews_dataframe_cleaned ,columns=[\"Article Source\",\"Category\"])\n",
    "samsungnews_dataframe_cleaned = pd.get_dummies(samsungnews_dataframe_cleaned,columns=[\"Article Source\",\"Category\"])\n",
    "tencentnews_dataframe_cleaned = pd.get_dummies(tencentnews_dataframe_cleaned,columns=[\"Article Source\",\"Category\"])\n",
    "teslanews_dataframe_cleaned = pd.get_dummies(teslanews_dataframe_cleaned,columns=[\"Article Source\",\"Category\"])\n",
    "tsmcnews_dataframe_cleaned = pd.get_dummies(tsmcnews_dataframe_cleaned,columns=[\"Article Source\",\"Category\"])"
   ]
  },
  {
   "cell_type": "code",
   "execution_count": 6,
   "metadata": {},
   "outputs": [],
   "source": [
    "amazonnews_dataframe_cleaned[\"Date\"] = pd.to_datetime(amazonnews_dataframe_cleaned[\"Date\"]).dt.date\n",
    "applenews_dataframe_cleaned[\"Date\"] = pd.to_datetime(applenews_dataframe_cleaned[\"Date\"]).dt.date\n",
    "googlenews_dataframe_cleaned[\"Date\"] = pd.to_datetime(googlenews_dataframe_cleaned[\"Date\"]).dt.date\n",
    "metanews_dataframe_cleaned[\"Date\"] = pd.to_datetime(metanews_dataframe_cleaned[\"Date\"]).dt.date\n",
    "msftnews_dataframe_cleaned[\"Date\"] = pd.to_datetime(msftnews_dataframe_cleaned[\"Date\"]).dt.date\n",
    "nvidianews_dataframe_cleaned[\"Date\"] = pd.to_datetime(nvidianews_dataframe_cleaned[\"Date\"]).dt.date\n",
    "samsungnews_dataframe_cleaned[\"Date\"] = pd.to_datetime(samsungnews_dataframe_cleaned[\"Date\"]).dt.date\n",
    "tencentnews_dataframe_cleaned[\"Date\"] = pd.to_datetime(tencentnews_dataframe_cleaned[\"Date\"]).dt.date\n",
    "teslanews_dataframe_cleaned[\"Date\"] = pd.to_datetime(teslanews_dataframe_cleaned[\"Date\"]).dt.date\n",
    "tsmcnews_dataframe_cleaned[\"Date\"] = pd.to_datetime(tsmcnews_dataframe_cleaned[\"Date\"]).dt.date"
   ]
  },
  {
   "cell_type": "code",
   "execution_count": 7,
   "metadata": {},
   "outputs": [],
   "source": [
    "amazonnews_dataframe_cleaned_final = amazonnews_dataframe_cleaned.groupby(['Date']\n",
    "                                                                        ).agg(\n",
    "                                                                            title_pos=('Title Positive', 'mean'),\n",
    "                                                                            title_pos_var=('Title Positive', lambda x: np.var(x)),\n",
    "                                                                            title_neg=('Title Negative', 'mean'),\n",
    "                                                                            title_neg_var=('Title Negative', lambda x: np.var(x)),\n",
    "                                                                            title_neu=('Title Neutral','mean'),\n",
    "                                                                            title_neu_var=('Title Neutral', lambda x: np.var(x)),\n",
    "                                                                            title_subjectivity=('Title Subjectivity', 'mean'),\n",
    "                                                                            text_pos=('Text Positive', 'mean'),\n",
    "                                                                            text_poss_var=('Text Positive', lambda x: np.var(x)),\n",
    "                                                                            text_neg=('Text Negative', 'mean'),\n",
    "                                                                            text_neg_var=('Text Negative', lambda x: np.var(x)),\n",
    "                                                                            text_neu=('Text Neutral','mean'),\n",
    "                                                                            text_neu_var=('Text Neutral', lambda x: np.var(x)),\n",
    "                                                                            text_subjectivity=('Text Subjectivity', 'mean'),\n",
    "                                                                            art_count = (\"Article Link\",'count')\n",
    "                                                                        )"
   ]
  },
  {
   "cell_type": "code",
   "execution_count": 8,
   "metadata": {},
   "outputs": [],
   "source": [
    "applenews_dataframe_cleaned_final = applenews_dataframe_cleaned.groupby(['Date']\n",
    "                                                                        ).agg(\n",
    "                                                                            title_pos=('Title Positive', 'mean'),\n",
    "                                                                            title_pos_var=('Title Positive', lambda x: np.var(x)),\n",
    "                                                                            title_neg=('Title Negative', 'mean'),\n",
    "                                                                            title_neg_var=('Title Negative', lambda x: np.var(x)),\n",
    "                                                                            title_neu=('Title Neutral','mean'),\n",
    "                                                                            title_neu_var=('Title Neutral', lambda x: np.var(x)),\n",
    "                                                                            title_subjectivity=('Title Subjectivity', 'mean'),\n",
    "                                                                            text_pos=('Text Positive', 'mean'),\n",
    "                                                                            text_poss_var=('Text Positive', lambda x: np.var(x)),\n",
    "                                                                            text_neg=('Text Negative', 'mean'),\n",
    "                                                                            text_neg_var=('Text Negative', lambda x: np.var(x)),\n",
    "                                                                            text_neu=('Text Neutral','mean'),\n",
    "                                                                            text_neu_var=('Text Neutral', lambda x: np.var(x)),\n",
    "                                                                            text_subjectivity=('Text Subjectivity', 'mean'),\n",
    "                                                                            art_count = (\"Article Link\",'count')\n",
    "                                                                        )"
   ]
  },
  {
   "cell_type": "code",
   "execution_count": 9,
   "metadata": {},
   "outputs": [],
   "source": [
    "googlenews_dataframe_cleaned_final = googlenews_dataframe_cleaned.groupby(['Date']\n",
    "                                                                        ).agg(\n",
    "                                                                            title_pos=('Title Positive', 'mean'),\n",
    "                                                                            title_pos_var=('Title Positive', lambda x: np.var(x)),\n",
    "                                                                            title_neg=('Title Negative', 'mean'),\n",
    "                                                                            title_neg_var=('Title Negative', lambda x: np.var(x)),\n",
    "                                                                            title_neu=('Title Neutral','mean'),\n",
    "                                                                            title_neu_var=('Title Neutral', lambda x: np.var(x)),\n",
    "                                                                            title_subjectivity=('Title Subjectivity', 'mean'),\n",
    "                                                                            text_pos=('Text Positive', 'mean'),\n",
    "                                                                            text_poss_var=('Text Positive', lambda x: np.var(x)),\n",
    "                                                                            text_neg=('Text Negative', 'mean'),\n",
    "                                                                            text_neg_var=('Text Negative', lambda x: np.var(x)),\n",
    "                                                                            text_neu=('Text Neutral','mean'),\n",
    "                                                                            text_neu_var=('Text Neutral', lambda x: np.var(x)),\n",
    "                                                                            text_subjectivity=('Text Subjectivity', 'mean'), \n",
    "                                                                            art_count = (\"Article Link\",'count')\n",
    "                                                                        )"
   ]
  },
  {
   "cell_type": "code",
   "execution_count": 10,
   "metadata": {},
   "outputs": [],
   "source": [
    "metanews_dataframe_cleaned_final = metanews_dataframe_cleaned.groupby(['Date']\n",
    "                                                                        ).agg(\n",
    "                                                                            title_pos=('Title Positive', 'mean'),\n",
    "                                                                            title_pos_var=('Title Positive', lambda x: np.var(x)),\n",
    "                                                                            title_neg=('Title Negative', 'mean'),\n",
    "                                                                            title_neg_var=('Title Negative', lambda x: np.var(x)),\n",
    "                                                                            title_neu=('Title Neutral','mean'),\n",
    "                                                                            title_neu_var=('Title Neutral', lambda x: np.var(x)),\n",
    "                                                                            title_subjectivity=('Title Subjectivity', 'mean'),\n",
    "                                                                            text_pos=('Text Positive', 'mean'),\n",
    "                                                                            text_poss_var=('Text Positive', lambda x: np.var(x)),\n",
    "                                                                            text_neg=('Text Negative', 'mean'),\n",
    "                                                                            text_neg_var=('Text Negative', lambda x: np.var(x)),\n",
    "                                                                            text_neu=('Text Neutral','mean'),\n",
    "                                                                            text_neu_var=('Text Neutral', lambda x: np.var(x)),\n",
    "                                                                            text_subjectivity=('Text Subjectivity', 'mean'),\n",
    "                                                                            art_count = (\"Article Link\",'count')\n",
    "                                                                        )"
   ]
  },
  {
   "cell_type": "code",
   "execution_count": 11,
   "metadata": {},
   "outputs": [],
   "source": [
    "msftnews_dataframe_cleaned_final = msftnews_dataframe_cleaned.groupby(['Date']\n",
    "                                                                        ).agg(\n",
    "                                                                            title_pos=('Title Positive', 'mean'),\n",
    "                                                                            title_pos_var=('Title Positive', lambda x: np.var(x)),\n",
    "                                                                            title_neg=('Title Negative', 'mean'),\n",
    "                                                                            title_neg_var=('Title Negative', lambda x: np.var(x)),\n",
    "                                                                            title_neu=('Title Neutral','mean'),\n",
    "                                                                            title_neu_var=('Title Neutral', lambda x: np.var(x)),\n",
    "                                                                            title_subjectivity=('Title Subjectivity', 'mean'),\n",
    "                                                                            text_pos=('Text Positive', 'mean'),\n",
    "                                                                            text_poss_var=('Text Positive', lambda x: np.var(x)),\n",
    "                                                                            text_neg=('Text Negative', 'mean'),\n",
    "                                                                            text_neg_var=('Text Negative', lambda x: np.var(x)),\n",
    "                                                                            text_neu=('Text Neutral','mean'),\n",
    "                                                                            text_neu_var=('Text Neutral', lambda x: np.var(x)),\n",
    "                                                                            text_subjectivity=('Text Subjectivity', 'mean'), \n",
    "                                                                            art_count = (\"Article Link\",'count')\n",
    "                                                                        )"
   ]
  },
  {
   "cell_type": "code",
   "execution_count": 12,
   "metadata": {},
   "outputs": [],
   "source": [
    "nvidianews_dataframe_cleaned_final = nvidianews_dataframe_cleaned.groupby(['Date']\n",
    "                                                                        ).agg(\n",
    "                                                                            title_pos=('Title Positive', 'mean'),\n",
    "                                                                            title_pos_var=('Title Positive', lambda x: np.var(x)),\n",
    "                                                                            title_neg=('Title Negative', 'mean'),\n",
    "                                                                            title_neg_var=('Title Negative', lambda x: np.var(x)),\n",
    "                                                                            title_neu=('Title Neutral','mean'),\n",
    "                                                                            title_neu_var=('Title Neutral', lambda x: np.var(x)),\n",
    "                                                                            title_subjectivity=('Title Subjectivity', 'mean'),\n",
    "                                                                            text_pos=('Text Positive', 'mean'),\n",
    "                                                                            text_poss_var=('Text Positive', lambda x: np.var(x)),\n",
    "                                                                            text_neg=('Text Negative', 'mean'),\n",
    "                                                                            text_neg_var=('Text Negative', lambda x: np.var(x)),\n",
    "                                                                            text_neu=('Text Neutral','mean'),\n",
    "                                                                            text_neu_var=('Text Neutral', lambda x: np.var(x)),\n",
    "                                                                            text_subjectivity=('Text Subjectivity', 'mean'),\n",
    "                                                                            art_count = (\"Article Link\",'count')\n",
    "                                                                        )"
   ]
  },
  {
   "cell_type": "code",
   "execution_count": 13,
   "metadata": {},
   "outputs": [],
   "source": [
    "samsungnews_dataframe_cleaned_final = samsungnews_dataframe_cleaned.groupby(['Date']\n",
    "                                                                        ).agg(\n",
    "                                                                            title_pos=('Title Positive', 'mean'),\n",
    "                                                                            title_pos_var=('Title Positive', lambda x: np.var(x)),\n",
    "                                                                            title_neg=('Title Negative', 'mean'),\n",
    "                                                                            title_neg_var=('Title Negative', lambda x: np.var(x)),\n",
    "                                                                            title_neu=('Title Neutral','mean'),\n",
    "                                                                            title_neu_var=('Title Neutral', lambda x: np.var(x)),\n",
    "                                                                            title_subjectivity=('Title Subjectivity', 'mean'),\n",
    "                                                                            text_pos=('Text Positive', 'mean'),\n",
    "                                                                            text_poss_var=('Text Positive', lambda x: np.var(x)),\n",
    "                                                                            text_neg=('Text Negative', 'mean'),\n",
    "                                                                            text_neg_var=('Text Negative', lambda x: np.var(x)),\n",
    "                                                                            text_neu=('Text Neutral','mean'),\n",
    "                                                                            text_neu_var=('Text Neutral', lambda x: np.var(x)),\n",
    "                                                                            text_subjectivity=('Text Subjectivity', 'mean'),\n",
    "                                                                            art_count = (\"Article Link\",'count')\n",
    "                                                                        )"
   ]
  },
  {
   "cell_type": "code",
   "execution_count": 14,
   "metadata": {},
   "outputs": [],
   "source": [
    "tencentnews_dataframe_cleaned_final =tencentnews_dataframe_cleaned.groupby(['Date']\n",
    "                                                                        ).agg(\n",
    "                                                                            title_pos=('Title Positive', 'mean'),\n",
    "                                                                            title_pos_var=('Title Positive', lambda x: np.var(x)),\n",
    "                                                                            title_neg=('Title Negative', 'mean'),\n",
    "                                                                            title_neg_var=('Title Negative', lambda x: np.var(x)),\n",
    "                                                                            title_neu=('Title Neutral','mean'),\n",
    "                                                                            title_neu_var=('Title Neutral', lambda x: np.var(x)),\n",
    "                                                                            title_subjectivity=('Title Subjectivity', 'mean'),\n",
    "                                                                            text_pos=('Text Positive', 'mean'),\n",
    "                                                                            text_poss_var=('Text Positive', lambda x: np.var(x)),\n",
    "                                                                            text_neg=('Text Negative', 'mean'),\n",
    "                                                                            text_neg_var=('Text Negative', lambda x: np.var(x)),\n",
    "                                                                            text_neu=('Text Neutral','mean'),\n",
    "                                                                            text_neu_var=('Text Neutral', lambda x: np.var(x)),\n",
    "                                                                            text_subjectivity=('Text Subjectivity', 'mean'),\n",
    "                                                                            art_count = (\"Article Link\",'count')\n",
    "                                                                        )"
   ]
  },
  {
   "cell_type": "code",
   "execution_count": 15,
   "metadata": {},
   "outputs": [],
   "source": [
    "teslanews_dataframe_cleaned_final = teslanews_dataframe_cleaned.groupby(['Date']\n",
    "                                                                        ).agg(\n",
    "                                                                            title_pos=('Title Positive', 'mean'),\n",
    "                                                                            title_pos_var=('Title Positive', lambda x: np.var(x)),\n",
    "                                                                            title_neg=('Title Negative', 'mean'),\n",
    "                                                                            title_neg_var=('Title Negative', lambda x: np.var(x)),\n",
    "                                                                            title_neu=('Title Neutral','mean'),\n",
    "                                                                            title_neu_var=('Title Neutral', lambda x: np.var(x)),\n",
    "                                                                            title_subjectivity=('Title Subjectivity', 'mean'),\n",
    "                                                                            text_pos=('Text Positive', 'mean'),\n",
    "                                                                            text_poss_var=('Text Positive', lambda x: np.var(x)),\n",
    "                                                                            text_neg=('Text Negative', 'mean'),\n",
    "                                                                            text_neg_var=('Text Negative', lambda x: np.var(x)),\n",
    "                                                                            text_neu=('Text Neutral','mean'),\n",
    "                                                                            text_neu_var=('Text Neutral', lambda x: np.var(x)),\n",
    "                                                                            text_subjectivity=('Text Subjectivity', 'mean'), \n",
    "                                                                            art_count = (\"Article Link\",'count')\n",
    "                                                                        )"
   ]
  },
  {
   "cell_type": "code",
   "execution_count": null,
   "metadata": {},
   "outputs": [],
   "source": []
  },
  {
   "cell_type": "code",
   "execution_count": 16,
   "metadata": {},
   "outputs": [],
   "source": [
    "tsmcnews_dataframe_cleaned_final = tsmcnews_dataframe_cleaned.groupby(['Date']\n",
    "                                                                        ).agg(\n",
    "                                                                            title_pos=('Title Positive', 'mean'),\n",
    "                                                                            title_pos_var=('Title Positive', lambda x: np.var(x)),\n",
    "                                                                            title_neg=('Title Negative', 'mean'),\n",
    "                                                                            title_neg_var=('Title Negative', lambda x: np.var(x)),\n",
    "                                                                            title_neu=('Title Neutral','mean'),\n",
    "                                                                            title_neu_var=('Title Neutral', lambda x: np.var(x)),\n",
    "                                                                            title_subjectivity=('Title Subjectivity', 'mean'),\n",
    "                                                                            text_pos=('Text Positive', 'mean'),\n",
    "                                                                            text_poss_var=('Text Positive', lambda x: np.var(x)),\n",
    "                                                                            text_neg=('Text Negative', 'mean'),\n",
    "                                                                            text_neg_var=('Text Negative', lambda x: np.var(x)),\n",
    "                                                                            text_neu=('Text Neutral','mean'),\n",
    "                                                                            text_neu_var=('Text Neutral', lambda x: np.var(x)),\n",
    "                                                                            text_subjectivity=('Text Subjectivity', 'mean'),\n",
    "                                                                            art_count = (\"Article Link\",'count')\n",
    "                                                                        )"
   ]
  },
  {
   "cell_type": "code",
   "execution_count": 17,
   "metadata": {},
   "outputs": [],
   "source": [
    "amazonnews_dataframe_cleaned_final.to_csv('amazon_news.csv')\n",
    "applenews_dataframe_cleaned_final.to_csv('apple_news.csv')\n",
    "googlenews_dataframe_cleaned_final.to_csv('google_news.csv')\n",
    "metanews_dataframe_cleaned_final.to_csv('meta_news.csv')\n",
    "msftnews_dataframe_cleaned_final.to_csv('msft_news.csv')\n",
    "nvidianews_dataframe_cleaned_final.to_csv('nvidia_news.csv')\n",
    "samsungnews_dataframe_cleaned_final.to_csv('samsung_news.csv')\n",
    "tencentnews_dataframe_cleaned_final.to_csv('tencent_news.csv')\n",
    "teslanews_dataframe_cleaned_final.to_csv('tesla_news.csv')\n",
    "tsmcnews_dataframe_cleaned_final.to_csv('tsmc_news.csv')"
   ]
  }
 ],
 "metadata": {
  "kernelspec": {
   "display_name": "Python 3.10.6 (conda)",
   "language": "python",
   "name": "python3"
  },
  "language_info": {
   "codemirror_mode": {
    "name": "ipython",
    "version": 3
   },
   "file_extension": ".py",
   "mimetype": "text/x-python",
   "name": "python",
   "nbconvert_exporter": "python",
   "pygments_lexer": "ipython3",
   "version": "3.10.6"
  },
  "orig_nbformat": 4,
  "vscode": {
   "interpreter": {
    "hash": "44425e06ba0c648dfd5bbfce51c25325d91aeaf103d5522f47a19ba32919c530"
   }
  }
 },
 "nbformat": 4,
 "nbformat_minor": 2
}
