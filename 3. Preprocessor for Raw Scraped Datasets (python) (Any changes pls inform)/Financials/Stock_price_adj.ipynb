{
 "cells": [
  {
   "cell_type": "code",
   "execution_count": 45,
   "id": "72dc6e11",
   "metadata": {},
   "outputs": [],
   "source": [
    "# As financial data is dependent on days the stock market opens, data on weekends and public holidays is missing"
   ]
  },
  {
   "cell_type": "code",
   "execution_count": 2,
   "id": "04aad8aa",
   "metadata": {},
   "outputs": [],
   "source": [
    "import numpy as np\n",
    "import pandas as pd\n",
    "from datetime import date, datetime, timedelta\n",
    "import re\n",
    "pd.pandas.set_option('display.max_columns', None)"
   ]
  },
  {
   "cell_type": "code",
   "execution_count": 3,
   "id": "9ca28e5b",
   "metadata": {},
   "outputs": [],
   "source": [
    "# raw CSV is imported from yahoo finance\n",
    "\n",
    "df = pd.read_csv(\"S&P_500.csv\")"
   ]
  },
  {
   "cell_type": "code",
   "execution_count": 4,
   "id": "36cfe932",
   "metadata": {},
   "outputs": [],
   "source": [
    "# To fill missing dates\n",
    "\n",
    "def generate_complete_date(df):\n",
    "    df[\"Date\"] = pd.to_datetime(df[\"Date\"])\n",
    "    print(f\"Original shape of dataframe: {df.shape}\")\n",
    "    complete_date = pd.DataFrame(pd.date_range(start='30/9/2016', end='29/9/2022'), columns=['Date'])\n",
    "    complete_date = pd.merge(left=complete_date, right=df, how='left', on='Date')\n",
    "    print(f\"Number of null values original: {complete_date['Open'].isnull().sum()}\")\n",
    "    complete_date = complete_date.fillna(method='ffill')\n",
    "    print(f\"Number of null values left: {complete_date['Open'].isnull().sum()}\")\n",
    "    complete_date.to_csv('S&P_500_adj.csv', index=False)"
   ]
  },
  {
   "cell_type": "code",
   "execution_count": 5,
   "id": "10f974e1",
   "metadata": {
    "scrolled": false
   },
   "outputs": [
    {
     "name": "stdout",
     "output_type": "stream",
     "text": [
      "Original shape of dataframe: (1511, 7)\n",
      "Number of null values original: 681\n",
      "Number of null values left: 0\n"
     ]
    }
   ],
   "source": [
    "generate_complete_date(df)"
   ]
  },
  {
   "cell_type": "code",
   "execution_count": null,
   "id": "b54c36c8",
   "metadata": {},
   "outputs": [],
   "source": []
  }
 ],
 "metadata": {
  "kernelspec": {
   "display_name": "Python 3 (ipykernel)",
   "language": "python",
   "name": "python3"
  },
  "language_info": {
   "codemirror_mode": {
    "name": "ipython",
    "version": 3
   },
   "file_extension": ".py",
   "mimetype": "text/x-python",
   "name": "python",
   "nbconvert_exporter": "python",
   "pygments_lexer": "ipython3",
   "version": "3.9.12"
  }
 },
 "nbformat": 4,
 "nbformat_minor": 5
}
