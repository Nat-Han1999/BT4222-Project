{
 "cells": [
  {
   "cell_type": "markdown",
   "id": "a7e0c665",
   "metadata": {},
   "source": [
    "# Importing Libraries"
   ]
  },
  {
   "cell_type": "code",
   "execution_count": 1,
   "id": "0fad0ce3",
   "metadata": {},
   "outputs": [],
   "source": [
    "import os\n",
    "import regex as re\n",
    "import json\n",
    "import numpy as np\n",
    "import pandas as pd\n",
    "from datetime import datetime\n",
    "import matplotlib.pyplot as plt"
   ]
  },
  {
   "cell_type": "code",
   "execution_count": 2,
   "id": "da109cb1",
   "metadata": {},
   "outputs": [
    {
     "data": {
      "text/plain": [
       "'/Users/andreaslukita7/Data/Business Administration/Y3S1/BT4222/Project/Analysis'"
      ]
     },
     "execution_count": 2,
     "metadata": {},
     "output_type": "execute_result"
    }
   ],
   "source": [
    "#Get current working directory\n",
    "cwd = os.getcwd()\n",
    "cwd"
   ]
  },
  {
   "cell_type": "code",
   "execution_count": 3,
   "id": "b181374e",
   "metadata": {},
   "outputs": [],
   "source": [
    "# ddir = r'/Users/lienahtan/Library/CloudStorage/OneDrive-NationalUniversityofSingapore/School/Y3S1/BT4222/Project/Text' #working dir\n",
    "ddir = cwd + r'/Reddit Dataset'\n",
    "filename = f'{ddir}/META_final.txt'"
   ]
  },
  {
   "cell_type": "code",
   "execution_count": 4,
   "id": "3a6cd0ae",
   "metadata": {},
   "outputs": [],
   "source": [
    "f = open(filename, \"r\")\n",
    "df = pd.read_json(f, lines=True)"
   ]
  },
  {
   "cell_type": "code",
   "execution_count": 5,
   "id": "061aa3d1",
   "metadata": {},
   "outputs": [
    {
     "data": {
      "text/plain": [
       "(1, 21371)"
      ]
     },
     "execution_count": 5,
     "metadata": {},
     "output_type": "execute_result"
    }
   ],
   "source": [
    "df.shape"
   ]
  },
  {
   "cell_type": "code",
   "execution_count": 7,
   "id": "56fedb9c",
   "metadata": {},
   "outputs": [],
   "source": [
    "#Transposed dataframe \n",
    "df = df.T"
   ]
  },
  {
   "cell_type": "code",
   "execution_count": 8,
   "id": "82eaf8c5",
   "metadata": {},
   "outputs": [
    {
     "data": {
      "text/html": [
       "<div>\n",
       "<style scoped>\n",
       "    .dataframe tbody tr th:only-of-type {\n",
       "        vertical-align: middle;\n",
       "    }\n",
       "\n",
       "    .dataframe tbody tr th {\n",
       "        vertical-align: top;\n",
       "    }\n",
       "\n",
       "    .dataframe thead th {\n",
       "        text-align: right;\n",
       "    }\n",
       "</style>\n",
       "<table border=\"1\" class=\"dataframe\">\n",
       "  <thead>\n",
       "    <tr style=\"text-align: right;\">\n",
       "      <th></th>\n",
       "      <th>0</th>\n",
       "    </tr>\n",
       "  </thead>\n",
       "  <tbody>\n",
       "    <tr>\n",
       "      <th>0</th>\n",
       "      <td>{'Subreddit': 'stocks', 'Post URL': 'https://w...</td>\n",
       "    </tr>\n",
       "    <tr>\n",
       "      <th>1</th>\n",
       "      <td>{'Subreddit': 'stocks', 'Post URL': 'https://w...</td>\n",
       "    </tr>\n",
       "    <tr>\n",
       "      <th>2</th>\n",
       "      <td>{'Subreddit': 'stocks', 'Post URL': 'https://w...</td>\n",
       "    </tr>\n",
       "    <tr>\n",
       "      <th>3</th>\n",
       "      <td>{'Subreddit': 'stocks', 'Post URL': 'https://w...</td>\n",
       "    </tr>\n",
       "    <tr>\n",
       "      <th>4</th>\n",
       "      <td>{'Subreddit': 'stocks', 'Post URL': 'https://w...</td>\n",
       "    </tr>\n",
       "  </tbody>\n",
       "</table>\n",
       "</div>"
      ],
      "text/plain": [
       "                                                   0\n",
       "0  {'Subreddit': 'stocks', 'Post URL': 'https://w...\n",
       "1  {'Subreddit': 'stocks', 'Post URL': 'https://w...\n",
       "2  {'Subreddit': 'stocks', 'Post URL': 'https://w...\n",
       "3  {'Subreddit': 'stocks', 'Post URL': 'https://w...\n",
       "4  {'Subreddit': 'stocks', 'Post URL': 'https://w..."
      ]
     },
     "execution_count": 8,
     "metadata": {},
     "output_type": "execute_result"
    }
   ],
   "source": [
    "df.head()"
   ]
  },
  {
   "cell_type": "code",
   "execution_count": 9,
   "id": "e58ca639",
   "metadata": {},
   "outputs": [
    {
     "data": {
      "text/html": [
       "<div>\n",
       "<style scoped>\n",
       "    .dataframe tbody tr th:only-of-type {\n",
       "        vertical-align: middle;\n",
       "    }\n",
       "\n",
       "    .dataframe tbody tr th {\n",
       "        vertical-align: top;\n",
       "    }\n",
       "\n",
       "    .dataframe thead th {\n",
       "        text-align: right;\n",
       "    }\n",
       "</style>\n",
       "<table border=\"1\" class=\"dataframe\">\n",
       "  <thead>\n",
       "    <tr style=\"text-align: right;\">\n",
       "      <th></th>\n",
       "      <th>Post URL</th>\n",
       "      <th>Date Created</th>\n",
       "      <th>Title</th>\n",
       "      <th>Self Text</th>\n",
       "      <th>Score</th>\n",
       "      <th>Upvote Ratio</th>\n",
       "      <th>Total Comments</th>\n",
       "      <th>Comments</th>\n",
       "    </tr>\n",
       "  </thead>\n",
       "  <tbody>\n",
       "  </tbody>\n",
       "</table>\n",
       "</div>"
      ],
      "text/plain": [
       "Empty DataFrame\n",
       "Columns: [Post URL, Date Created, Title, Self Text, Score, Upvote Ratio, Total Comments, Comments]\n",
       "Index: []"
      ]
     },
     "execution_count": 9,
     "metadata": {},
     "output_type": "execute_result"
    }
   ],
   "source": [
    "#Create empty dataframe\n",
    "df_apple = pd.DataFrame(columns=['Post URL', 'Date Created', 'Title', 'Self Text', 'Score', 'Upvote Ratio', 'Total Comments', 'Comments'])\n",
    "df_apple"
   ]
  },
  {
   "cell_type": "code",
   "execution_count": 10,
   "id": "553072d6",
   "metadata": {},
   "outputs": [],
   "source": [
    "for i in range(len(df)):\n",
    "    df_apple = df_apple.append(df.iloc[i][0], ignore_index=True)"
   ]
  },
  {
   "cell_type": "code",
   "execution_count": 11,
   "id": "2fdafb71",
   "metadata": {},
   "outputs": [
    {
     "data": {
      "text/html": [
       "<div>\n",
       "<style scoped>\n",
       "    .dataframe tbody tr th:only-of-type {\n",
       "        vertical-align: middle;\n",
       "    }\n",
       "\n",
       "    .dataframe tbody tr th {\n",
       "        vertical-align: top;\n",
       "    }\n",
       "\n",
       "    .dataframe thead th {\n",
       "        text-align: right;\n",
       "    }\n",
       "</style>\n",
       "<table border=\"1\" class=\"dataframe\">\n",
       "  <thead>\n",
       "    <tr style=\"text-align: right;\">\n",
       "      <th></th>\n",
       "      <th>Post URL</th>\n",
       "      <th>Date Created</th>\n",
       "      <th>Title</th>\n",
       "      <th>Self Text</th>\n",
       "      <th>Score</th>\n",
       "      <th>Upvote Ratio</th>\n",
       "      <th>Total Comments</th>\n",
       "      <th>Comments</th>\n",
       "      <th>Subreddit</th>\n",
       "    </tr>\n",
       "  </thead>\n",
       "  <tbody>\n",
       "    <tr>\n",
       "      <th>0</th>\n",
       "      <td>https://www.reddit.com/r/stocks/comments/xsw3p...</td>\n",
       "      <td>1664604155000</td>\n",
       "      <td>Question on what to do with both TQQQ and SQQQ?</td>\n",
       "      <td>I might be the first person to ever hold both ...</td>\n",
       "      <td>1</td>\n",
       "      <td>1.0</td>\n",
       "      <td>0</td>\n",
       "      <td>[“Last week when the market was just beginning...</td>\n",
       "      <td>stocks</td>\n",
       "    </tr>\n",
       "    <tr>\n",
       "      <th>1</th>\n",
       "      <td>https://www.reddit.com/r/stocks/comments/xsken...</td>\n",
       "      <td>1664564716000</td>\n",
       "      <td>Facebook scrambles to escape stock’s death spi...</td>\n",
       "      <td>A year ago, before Facebook had turned [Meta](...</td>\n",
       "      <td>1</td>\n",
       "      <td>1.0</td>\n",
       "      <td>0</td>\n",
       "      <td>[How come articles like this talk about the iO...</td>\n",
       "      <td>stocks</td>\n",
       "    </tr>\n",
       "    <tr>\n",
       "      <th>2</th>\n",
       "      <td>https://www.reddit.com/r/stocks/comments/xs85c...</td>\n",
       "      <td>1664532449000</td>\n",
       "      <td>Some folks on here can not see the forest for ...</td>\n",
       "      <td>Late last year the members of the Fed sold all...</td>\n",
       "      <td>1</td>\n",
       "      <td>1.0</td>\n",
       "      <td>0</td>\n",
       "      <td>[ &gt;and are dollar cost averaging into etfs gre...</td>\n",
       "      <td>stocks</td>\n",
       "    </tr>\n",
       "    <tr>\n",
       "      <th>3</th>\n",
       "      <td>https://www.reddit.com/r/stocks/comments/xrn18...</td>\n",
       "      <td>1664467657000</td>\n",
       "      <td>FCF Yield of Stocks I am Watching</td>\n",
       "      <td>I recently compiled a list of stocks with thei...</td>\n",
       "      <td>1</td>\n",
       "      <td>1.0</td>\n",
       "      <td>0</td>\n",
       "      <td>[]</td>\n",
       "      <td>stocks</td>\n",
       "    </tr>\n",
       "    <tr>\n",
       "      <th>4</th>\n",
       "      <td>https://www.reddit.com/r/stocks/comments/xrfmx...</td>\n",
       "      <td>1664448274000</td>\n",
       "      <td>Meta Announces Hiring Freeze, Warns Employees ...</td>\n",
       "      <td>Meta Platforms Inc., the owner of Facebook and...</td>\n",
       "      <td>1</td>\n",
       "      <td>1.0</td>\n",
       "      <td>0</td>\n",
       "      <td>[3/95 (3%) reduction in expense is not enough ...</td>\n",
       "      <td>stocks</td>\n",
       "    </tr>\n",
       "  </tbody>\n",
       "</table>\n",
       "</div>"
      ],
      "text/plain": [
       "                                            Post URL   Date Created  \\\n",
       "0  https://www.reddit.com/r/stocks/comments/xsw3p...  1664604155000   \n",
       "1  https://www.reddit.com/r/stocks/comments/xsken...  1664564716000   \n",
       "2  https://www.reddit.com/r/stocks/comments/xs85c...  1664532449000   \n",
       "3  https://www.reddit.com/r/stocks/comments/xrn18...  1664467657000   \n",
       "4  https://www.reddit.com/r/stocks/comments/xrfmx...  1664448274000   \n",
       "\n",
       "                                               Title  \\\n",
       "0    Question on what to do with both TQQQ and SQQQ?   \n",
       "1  Facebook scrambles to escape stock’s death spi...   \n",
       "2  Some folks on here can not see the forest for ...   \n",
       "3                  FCF Yield of Stocks I am Watching   \n",
       "4  Meta Announces Hiring Freeze, Warns Employees ...   \n",
       "\n",
       "                                           Self Text Score Upvote Ratio  \\\n",
       "0  I might be the first person to ever hold both ...     1          1.0   \n",
       "1  A year ago, before Facebook had turned [Meta](...     1          1.0   \n",
       "2  Late last year the members of the Fed sold all...     1          1.0   \n",
       "3  I recently compiled a list of stocks with thei...     1          1.0   \n",
       "4  Meta Platforms Inc., the owner of Facebook and...     1          1.0   \n",
       "\n",
       "  Total Comments                                           Comments Subreddit  \n",
       "0              0  [“Last week when the market was just beginning...    stocks  \n",
       "1              0  [How come articles like this talk about the iO...    stocks  \n",
       "2              0  [ >and are dollar cost averaging into etfs gre...    stocks  \n",
       "3              0                                                 []    stocks  \n",
       "4              0  [3/95 (3%) reduction in expense is not enough ...    stocks  "
      ]
     },
     "execution_count": 11,
     "metadata": {},
     "output_type": "execute_result"
    }
   ],
   "source": [
    "df_apple.head()"
   ]
  },
  {
   "cell_type": "code",
   "execution_count": 12,
   "id": "e156e32b",
   "metadata": {},
   "outputs": [
    {
     "data": {
      "text/plain": [
       "(21371, 9)"
      ]
     },
     "execution_count": 12,
     "metadata": {},
     "output_type": "execute_result"
    }
   ],
   "source": [
    "df_apple.shape"
   ]
  },
  {
   "cell_type": "code",
   "execution_count": 13,
   "id": "bf2daf19",
   "metadata": {},
   "outputs": [],
   "source": [
    "df_apple[\"company_name\"] = \"META\""
   ]
  },
  {
   "cell_type": "code",
   "execution_count": 14,
   "id": "81104efa",
   "metadata": {},
   "outputs": [],
   "source": [
    "#Method to convert epoch time to human readable time\n",
    "def to_date(x):\n",
    "    date_time = str(x)\n",
    "    date_time = int(date_time[:-3])\n",
    "    date_time = datetime.fromtimestamp(date_time)\n",
    "    return date_time.date()\n",
    "\n",
    "def to_time(x):\n",
    "    date_time = str(x)\n",
    "    date_time = int(date_time[:-3])\n",
    "    date_time = datetime.fromtimestamp(date_time)\n",
    "    return date_time.time()"
   ]
  },
  {
   "cell_type": "code",
   "execution_count": 15,
   "id": "c879ffb8",
   "metadata": {},
   "outputs": [],
   "source": [
    "df_apple['Date'] = df_apple['Date Created'].apply(to_date)\n",
    "df_apple['Time'] = df_apple['Date Created'].apply(to_time)"
   ]
  },
  {
   "cell_type": "code",
   "execution_count": 16,
   "id": "5f68b3b0",
   "metadata": {},
   "outputs": [],
   "source": [
    "df_apple = df_apple.drop(['Date Created', 'Post URL'], axis=1)"
   ]
  },
  {
   "cell_type": "code",
   "execution_count": 17,
   "id": "03f9932e",
   "metadata": {},
   "outputs": [],
   "source": [
    "#replace non-word character (e.g. space) by '_' in variable names\n",
    "df_apple.rename(columns=lambda x: re.sub('\\W', '_', x.lower()), inplace=True)"
   ]
  },
  {
   "cell_type": "code",
   "execution_count": 18,
   "id": "e16d0434",
   "metadata": {},
   "outputs": [],
   "source": [
    "ordered_columns = ['company_name', 'date', 'time', 'title', 'self_text', 'score', 'total_comments', 'comments']\n",
    "df_apple = df_apple[ordered_columns]"
   ]
  },
  {
   "cell_type": "code",
   "execution_count": 19,
   "id": "87879282",
   "metadata": {},
   "outputs": [
    {
     "data": {
      "text/html": [
       "<div>\n",
       "<style scoped>\n",
       "    .dataframe tbody tr th:only-of-type {\n",
       "        vertical-align: middle;\n",
       "    }\n",
       "\n",
       "    .dataframe tbody tr th {\n",
       "        vertical-align: top;\n",
       "    }\n",
       "\n",
       "    .dataframe thead th {\n",
       "        text-align: right;\n",
       "    }\n",
       "</style>\n",
       "<table border=\"1\" class=\"dataframe\">\n",
       "  <thead>\n",
       "    <tr style=\"text-align: right;\">\n",
       "      <th></th>\n",
       "      <th>company_name</th>\n",
       "      <th>date</th>\n",
       "      <th>time</th>\n",
       "      <th>title</th>\n",
       "      <th>self_text</th>\n",
       "      <th>score</th>\n",
       "      <th>total_comments</th>\n",
       "      <th>comments</th>\n",
       "    </tr>\n",
       "  </thead>\n",
       "  <tbody>\n",
       "    <tr>\n",
       "      <th>0</th>\n",
       "      <td>META</td>\n",
       "      <td>2022-10-01</td>\n",
       "      <td>14:02:35</td>\n",
       "      <td>Question on what to do with both TQQQ and SQQQ?</td>\n",
       "      <td>I might be the first person to ever hold both ...</td>\n",
       "      <td>1</td>\n",
       "      <td>0</td>\n",
       "      <td>[“Last week when the market was just beginning...</td>\n",
       "    </tr>\n",
       "    <tr>\n",
       "      <th>1</th>\n",
       "      <td>META</td>\n",
       "      <td>2022-10-01</td>\n",
       "      <td>03:05:16</td>\n",
       "      <td>Facebook scrambles to escape stock’s death spi...</td>\n",
       "      <td>A year ago, before Facebook had turned [Meta](...</td>\n",
       "      <td>1</td>\n",
       "      <td>0</td>\n",
       "      <td>[How come articles like this talk about the iO...</td>\n",
       "    </tr>\n",
       "    <tr>\n",
       "      <th>2</th>\n",
       "      <td>META</td>\n",
       "      <td>2022-09-30</td>\n",
       "      <td>18:07:29</td>\n",
       "      <td>Some folks on here can not see the forest for ...</td>\n",
       "      <td>Late last year the members of the Fed sold all...</td>\n",
       "      <td>1</td>\n",
       "      <td>0</td>\n",
       "      <td>[ &gt;and are dollar cost averaging into etfs gre...</td>\n",
       "    </tr>\n",
       "    <tr>\n",
       "      <th>3</th>\n",
       "      <td>META</td>\n",
       "      <td>2022-09-30</td>\n",
       "      <td>00:07:37</td>\n",
       "      <td>FCF Yield of Stocks I am Watching</td>\n",
       "      <td>I recently compiled a list of stocks with thei...</td>\n",
       "      <td>1</td>\n",
       "      <td>0</td>\n",
       "      <td>[]</td>\n",
       "    </tr>\n",
       "    <tr>\n",
       "      <th>4</th>\n",
       "      <td>META</td>\n",
       "      <td>2022-09-29</td>\n",
       "      <td>18:44:34</td>\n",
       "      <td>Meta Announces Hiring Freeze, Warns Employees ...</td>\n",
       "      <td>Meta Platforms Inc., the owner of Facebook and...</td>\n",
       "      <td>1</td>\n",
       "      <td>0</td>\n",
       "      <td>[3/95 (3%) reduction in expense is not enough ...</td>\n",
       "    </tr>\n",
       "  </tbody>\n",
       "</table>\n",
       "</div>"
      ],
      "text/plain": [
       "  company_name        date      time  \\\n",
       "0         META  2022-10-01  14:02:35   \n",
       "1         META  2022-10-01  03:05:16   \n",
       "2         META  2022-09-30  18:07:29   \n",
       "3         META  2022-09-30  00:07:37   \n",
       "4         META  2022-09-29  18:44:34   \n",
       "\n",
       "                                               title  \\\n",
       "0    Question on what to do with both TQQQ and SQQQ?   \n",
       "1  Facebook scrambles to escape stock’s death spi...   \n",
       "2  Some folks on here can not see the forest for ...   \n",
       "3                  FCF Yield of Stocks I am Watching   \n",
       "4  Meta Announces Hiring Freeze, Warns Employees ...   \n",
       "\n",
       "                                           self_text score total_comments  \\\n",
       "0  I might be the first person to ever hold both ...     1              0   \n",
       "1  A year ago, before Facebook had turned [Meta](...     1              0   \n",
       "2  Late last year the members of the Fed sold all...     1              0   \n",
       "3  I recently compiled a list of stocks with thei...     1              0   \n",
       "4  Meta Platforms Inc., the owner of Facebook and...     1              0   \n",
       "\n",
       "                                            comments  \n",
       "0  [“Last week when the market was just beginning...  \n",
       "1  [How come articles like this talk about the iO...  \n",
       "2  [ >and are dollar cost averaging into etfs gre...  \n",
       "3                                                 []  \n",
       "4  [3/95 (3%) reduction in expense is not enough ...  "
      ]
     },
     "execution_count": 19,
     "metadata": {},
     "output_type": "execute_result"
    }
   ],
   "source": [
    "df_apple.head()"
   ]
  },
  {
   "cell_type": "code",
   "execution_count": 20,
   "id": "03bb86e0",
   "metadata": {},
   "outputs": [
    {
     "data": {
      "text/plain": [
       "META    21371\n",
       "Name: company_name, dtype: int64"
      ]
     },
     "execution_count": 20,
     "metadata": {},
     "output_type": "execute_result"
    }
   ],
   "source": [
    "df_apple[\"company_name\"].value_counts()"
   ]
  },
  {
   "cell_type": "code",
   "execution_count": 21,
   "id": "d2349543",
   "metadata": {},
   "outputs": [
    {
     "data": {
      "text/plain": [
       "0"
      ]
     },
     "execution_count": 21,
     "metadata": {},
     "output_type": "execute_result"
    }
   ],
   "source": [
    "df_apple[\"company_name\"].isnull().sum()"
   ]
  },
  {
   "cell_type": "code",
   "execution_count": 22,
   "id": "e35202c4",
   "metadata": {},
   "outputs": [],
   "source": [
    "#Export the respective dataframe to csv for future work\n",
    "df_apple.to_csv(\"METAReddit.csv\", index=False)"
   ]
  }
 ],
 "metadata": {
  "kernelspec": {
   "display_name": "Python 3 (ipykernel)",
   "language": "python",
   "name": "python3"
  },
  "language_info": {
   "codemirror_mode": {
    "name": "ipython",
    "version": 3
   },
   "file_extension": ".py",
   "mimetype": "text/x-python",
   "name": "python",
   "nbconvert_exporter": "python",
   "pygments_lexer": "ipython3",
   "version": "3.9.13"
  }
 },
 "nbformat": 4,
 "nbformat_minor": 5
}
